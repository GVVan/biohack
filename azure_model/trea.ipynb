{
  "metadata": {
    "kernelspec": {
      "display_name": "Python 3.6",
      "name": "python36",
      "language": "python"
    },
    "language_info": {
      "mimetype": "text/x-python",
      "nbconvert_exporter": "python",
      "name": "python",
      "pygments_lexer": "ipython3",
      "version": "3.6.6",
      "file_extension": ".py",
      "codemirror_mode": {
        "version": 3,
        "name": "ipython"
      }
    }
  },
  "nbformat_minor": 2,
  "nbformat": 4,
  "cells": [
    {
      "cell_type": "code",
      "source": "from azureml.core import Workspace, Experiment, Run\nimport math, random, pickle\nimport matplotlib as mpl\n\nimport matplotlib.pyplot as plt\n\nimport sys\nimport numpy as np\nimport glob\nimport pandas as pd\n\nfrom sklearn.cluster import KMeans\nfrom sklearn.svm import SVC\nimport os\nfrom sklearn.neighbors import KNeighborsClassifier\nfrom sklearn import ensemble\nimport sklearn\nfrom sklearn.neural_network import MLPClassifier\n\n\n",
      "metadata": {
        "collapsed": true,
        "trusted": true
      },
      "execution_count": 1,
      "outputs": []
    },
    {
      "cell_type": "code",
      "source": "ws = Workspace.from_config()\nexperiment = Experiment(workspace = ws, name = \"biohack-experiment\")",
      "metadata": {
        "trusted": true
      },
      "execution_count": 2,
      "outputs": [
        {
          "text": "Found the config file in: /home/nbuser/library/config.json\n",
          "name": "stdout",
          "output_type": "stream"
        }
      ]
    },
    {
      "cell_type": "code",
      "source": "# выгрузка обучающей выборки\ndf_train = pd.read_csv('df_train.psv', delimiter='|')\ntrain_array = np.array(df_train.drop(['name','Unnamed: 0'], axis=1))",
      "metadata": {
        "trusted": true
      },
      "execution_count": 3,
      "outputs": []
    },
    {
      "cell_type": "code",
      "source": "mlp = MLPClassifier(hidden_layer_sizes=(50,), max_iter=100, alpha=1e-4,\nsolver='sgd', verbose=10, tol=1e-4, random_state=1,\nlearning_rate_init=.1)\nmlp.fit(train_array[:,0:6], train_array[:,6])\n# Write file containing pi value into run history\nrun = experiment.start_logging()\n    ",
      "metadata": {
        "trusted": true
      },
      "execution_count": 4,
      "outputs": [
        {
          "text": "Iteration 1, loss = 0.51952661\nIteration 2, loss = 0.45036560\nIteration 3, loss = 0.43859008\nIteration 4, loss = 0.43270230\nIteration 5, loss = 0.42576112\nIteration 6, loss = 0.42116868\nIteration 7, loss = 0.41848570\nIteration 8, loss = 0.41514238\nIteration 9, loss = 0.41315188\nIteration 10, loss = 0.41054432\nIteration 11, loss = 0.40892764\nIteration 12, loss = 0.40476509\nIteration 13, loss = 0.40309371\nIteration 14, loss = 0.40050193\nIteration 15, loss = 0.39830102\nIteration 16, loss = 0.39665511\nIteration 17, loss = 0.39364001\nIteration 18, loss = 0.39166160\nIteration 19, loss = 0.38747690\nIteration 20, loss = 0.38439822\nIteration 21, loss = 0.38113038\nIteration 22, loss = 0.38035183\nIteration 23, loss = 0.37523852\nIteration 24, loss = 0.37462609\nIteration 25, loss = 0.37248500\nIteration 26, loss = 0.37128767\nIteration 27, loss = 0.36579893\nIteration 28, loss = 0.36438854\nIteration 29, loss = 0.36317955\nIteration 30, loss = 0.36060770\nIteration 31, loss = 0.35804276\nIteration 32, loss = 0.35439700\nIteration 33, loss = 0.35256168\nIteration 34, loss = 0.35030317\nIteration 35, loss = 0.34790430\nIteration 36, loss = 0.34522762\nIteration 37, loss = 0.34294547\nIteration 38, loss = 0.34119613\nIteration 39, loss = 0.34281662\nIteration 40, loss = 0.33694707\nIteration 41, loss = 0.33673427\nIteration 42, loss = 0.33312787\nIteration 43, loss = 0.33036503\nIteration 44, loss = 0.32873854\nIteration 45, loss = 0.32728992\nIteration 46, loss = 0.32432906\nIteration 47, loss = 0.32457284\nIteration 48, loss = 0.32457447\nIteration 49, loss = 0.31908317\nIteration 50, loss = 0.31969980\nIteration 51, loss = 0.31648613\nIteration 52, loss = 0.31618669\nIteration 53, loss = 0.31516799\nIteration 54, loss = 0.30928503\nIteration 55, loss = 0.31196685\nIteration 56, loss = 0.31150396\nIteration 57, loss = 0.31236466\nTraining loss did not improve more than tol=0.000100 for two consecutive epochs. Stopping.\n",
          "name": "stdout",
          "output_type": "stream"
        }
      ]
    },
    {
      "cell_type": "code",
      "source": "# Write file containing pi value into run history\nrun = experiment.start_logging()\nwith open(\"pi_estimate.pkl\",\"wb\") as f:\n    pickle.dump(mlp,f)\nrun.upload_file(name = 'outputs/pi_estimate.pkl', path_or_stream = './pi_estimate.pkl')\n\nrun.complete()\nprint(\"Run completed\")",
      "metadata": {
        "trusted": true
      },
      "execution_count": 5,
      "outputs": [
        {
          "text": "Run completed\n",
          "name": "stdout",
          "output_type": "stream"
        }
      ]
    },
    {
      "cell_type": "code",
      "source": "",
      "metadata": {},
      "execution_count": null,
      "outputs": []
    }
  ]
}