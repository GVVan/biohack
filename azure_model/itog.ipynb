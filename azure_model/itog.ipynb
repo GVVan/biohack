{
  "metadata": {
    "kernelspec": {
      "display_name": "Python 3.6",
      "name": "python36",
      "language": "python"
    },
    "language_info": {
      "mimetype": "text/x-python",
      "nbconvert_exporter": "python",
      "name": "python",
      "pygments_lexer": "ipython3",
      "version": "3.6.6",
      "file_extension": ".py",
      "codemirror_mode": {
        "version": 3,
        "name": "ipython"
      }
    }
  },
  "nbformat_minor": 2,
  "nbformat": 4,
  "cells": [
    {
      "cell_type": "code",
      "source": "from azureml.core import Workspace, Experiment, Run\nimport math, random, pickle, json\nfrom azureml.core.model import Model",
      "metadata": {
        "collapsed": true,
        "trusted": true
      },
      "execution_count": 39,
      "outputs": []
    },
    {
      "cell_type": "code",
      "source": "ws = Workspace.from_config()",
      "metadata": {
        "trusted": true
      },
      "execution_count": 40,
      "outputs": [
        {
          "text": "Found the config file in: /home/nbuser/library/config.json\n",
          "name": "stdout",
          "output_type": "stream"
        }
      ]
    },
    {
      "cell_type": "code",
      "source": "experiment_name = \"biohack-experiment\"\nrun = list(Experiment(workspace = ws, name = experiment_name).get_runs())[0]",
      "metadata": {
        "trusted": true
      },
      "execution_count": 41,
      "outputs": []
    },
    {
      "cell_type": "code",
      "source": "model = run.register_model(model_name = \"pi_estimate.pkl\", model_path = \"outputs/pi_estimate.pkl\")",
      "metadata": {
        "trusted": true
      },
      "execution_count": 42,
      "outputs": []
    },
    {
      "cell_type": "code",
      "source": "%%writefile score.py\nimport pickle, json\nfrom azureml.core.model import Model\nimport numpy as np\n\ndef init():\n    global pi_estimate\n    model_path = Model.get_model_path(model_name = \"pi_estimate.pkl\")\n    with open(model_path, \"rb\") as f:\n        pi_estimate = pickle.load(f)\n\ndef run(raw_data):\n    try:\n        tmp = json.loads(raw_data)[\"tmp\"]\n        ad = json.loads(raw_data)[\"ad\"]\n        chss = json.loads(raw_data)[\"chss\"]\n        chd = json.loads(raw_data)[\"chd\"]\n        laktat = json.loads(raw_data)[\"laktat\"]\n        countLeiko = json.loads(raw_data)[\"countLeiko\"]\n        \n        js = np.array([float(tmp), float(ad),float(chss),float(chd), float(laktat),float(countLeiko)])\n        js = js.reshape(1,-1)\n        result = pi_estimate.predict_proba(js)\n        result = result.take(1)\n        print(type(pi_estimate))\n        return json.dumps({\"result\": result})\n    except Exception as e:\n        result = str(e)\n        return json.dumps({\"error\": result})",
      "metadata": {
        "trusted": true
      },
      "execution_count": 43,
      "outputs": [
        {
          "text": "Overwriting score.py\n",
          "name": "stdout",
          "output_type": "stream"
        }
      ]
    },
    {
      "cell_type": "code",
      "source": "from azureml.core.conda_dependencies import CondaDependencies\n\ncd = CondaDependencies()\ncd.add_pip_package(\"scikit-learn==0.19.1\")\ncd.add_pip_package(\"numpy==1.16.0\")\ncd.add_pip_package(\"scipy\")\ncd.add_pip_package(\"matplotlib\")\n\n#cd.save_to_file(\".\", \"myenv.yml\")\nwith open(\"myenv.yml\",\"w\") as f:\n    f.write(cd.serialize_to_string())",
      "metadata": {
        "trusted": true
      },
      "execution_count": 44,
      "outputs": []
    },
    {
      "cell_type": "code",
      "source": "from azureml.core.webservice import AciWebservice, Webservice\nfrom azureml.core.image import ContainerImage\n\n# Define the configuration of compute: ACI with 1 cpu core and 1 gb of memory.\naci_config = AciWebservice.deploy_configuration(cpu_cores = 1, memory_gb = 1)\n\n# Specify the configuration of image: scoring script, Python runtime (PySpark is the other option), and conda file of library dependencies.\nimage_config = ContainerImage.image_configuration(execution_script = \"score.py\",\nruntime = \"python\",\nconda_file = \"myenv.yml\")\n\n# Deploy the web service as an image containing the registered model.\nservice = Webservice.deploy_from_model(name = \"cors\",deployment_config = aci_config,models = [model],image_config = image_config,workspace = ws)\n\n# The service deployment can take several minutes: wait for completion.\nservice.wait_for_deployment(show_output = True)",
      "metadata": {
        "trusted": true
      },
      "execution_count": 45,
      "outputs": [
        {
          "text": "Creating image\nImage creation operation finished for image cors:1, operation \"Succeeded\"\nCreating service\nRunning...............\nSucceededACI service creation operation finished, operation \"Succeeded\"\n",
          "name": "stdout",
          "output_type": "stream"
        }
      ]
    },
    {
      "cell_type": "code",
      "source": "",
      "metadata": {},
      "execution_count": null,
      "outputs": []
    },
    {
      "cell_type": "code",
      "source": "",
      "metadata": {},
      "execution_count": null,
      "outputs": []
    },
    {
      "cell_type": "code",
      "source": "",
      "metadata": {},
      "execution_count": null,
      "outputs": []
    },
    {
      "cell_type": "code",
      "source": "from ipywidgets import interact # for test\n\ndef get_area(radius):\n    request = json.dumps({\"radius\": radius})# не правильно\n    response = service.run(input_data = request) # не правильно\n    return json.loads(response)[\"area\"] # не правильно\n\ninteract(get_area,radius=(0,10))",
      "metadata": {
        "trusted": true
      },
      "execution_count": null,
      "outputs": []
    }
  ]
}